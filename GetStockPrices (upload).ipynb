{
 "cells": [
  {
   "cell_type": "code",
   "execution_count": 8,
   "metadata": {},
   "outputs": [],
   "source": [
    "import pandas as pd\n",
    "import urllib.request\n",
    "import time\n",
    "import datetime\n",
    "import os"
   ]
  },
  {
   "cell_type": "code",
   "execution_count": 4,
   "metadata": {},
   "outputs": [],
   "source": [
    "apikey = \"ALPHACANTAGEKEY\"\n",
    "root = \"/data/S&P500 Data/\" # download location of data from Alpha Vantage\n",
    "output = \"/data/S&P500 Data/\" # output of joining download files"
   ]
  },
  {
   "cell_type": "code",
   "execution_count": 6,
   "metadata": {},
   "outputs": [],
   "source": [
    "# List of the 500 companies\n",
    "pathSP500 = \"/data/S&P500 Data/SP500.csv\"\n",
    "dfSP500 = pd.read_csv(pathSP500)"
   ]
  },
  {
   "cell_type": "code",
   "execution_count": 7,
   "metadata": {},
   "outputs": [],
   "source": [
    "# Loop through and download the prices\n",
    "for ticker in dfSP500[\"Ticker symbol\"]:\n",
    "    url = \"https://www.alphavantage.co/query?function=TIME_SERIES_DAILY_ADJUSTED&symbol={}&outputsize=full&apikey={}&datatype=csv\".format(ticker, apikey)\n",
    "    pathDataFiles = \"{}{}.csv\".format(root, ticker)\n",
    "    web = urllib.request.URLopener()\n",
    "    web.retrieve(url, pathDataFiles)\n",
    "    time.sleep(15)  # sleep for 15 seconds; Alpha Vantage only allows 5 calls per minute"
   ]
  },
  {
   "cell_type": "code",
   "execution_count": 9,
   "metadata": {},
   "outputs": [],
   "source": [
    "# Lets take the data and join it into one table/file\n",
    "dates = []\n",
    "numDays = 365*3\n",
    "for i in range(0,numDays):\n",
    "    dates.append([(datetime.datetime(2018,9,11) - datetime.timedelta(days=365*3-i)).date(),0])\n",
    "dfDates = pd.DataFrame(dates,columns=[\"Date\",\"adjusted_close\"])\n",
    "\n",
    "df = dfDates\n",
    "for fldr, subdirs, files in os.walk(root):\n",
    "    for file in files:\n",
    "        ticker = file.replace(\".csv\",\"\")\n",
    "        pathTicker = fldr.replace(\"\\\\\",\"/\") + \"/\" + file\n",
    "        dfTicker = pd.read_csv(pathTicker, parse_dates=['timestamp'])\n",
    "        dfTicker['timestamp'] = dfTicker['timestamp'].dt.date\n",
    "        dfTicker = dfTicker.rename(index=str, columns={\"timestamp\":\"Date\"})\n",
    "        dfTicker = dfTicker[['Date','adjusted_close']]\n",
    "        df = df.merge(dfTicker, how='left', on=['Date'], suffixes=['','_{}'.format(ticker)])\n",
    "        \n",
    "df.to_csv(output + \"/all2.csv\")"
   ]
  }
 ],
 "metadata": {
  "kernelspec": {
   "display_name": "Python 3",
   "language": "python",
   "name": "python3"
  },
  "language_info": {
   "codemirror_mode": {
    "name": "ipython",
    "version": 3
   },
   "file_extension": ".py",
   "mimetype": "text/x-python",
   "name": "python",
   "nbconvert_exporter": "python",
   "pygments_lexer": "ipython3",
   "version": "3.5.5"
  }
 },
 "nbformat": 4,
 "nbformat_minor": 2
}
